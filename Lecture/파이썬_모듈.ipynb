{
  "cells": [
    {
      "cell_type": "markdown",
      "metadata": {
        "id": "view-in-github",
        "colab_type": "text"
      },
      "source": [
        "<a href=\"https://colab.research.google.com/github/yoonwanggyu/-2024-Alpaco_Final_Project/blob/main/Lecture/%ED%8C%8C%EC%9D%B4%EC%8D%AC_%EB%AA%A8%EB%93%88.ipynb\" target=\"_parent\"><img src=\"https://colab.research.google.com/assets/colab-badge.svg\" alt=\"Open In Colab\"/></a>"
      ]
    },
    {
      "cell_type": "markdown",
      "metadata": {
        "id": "Py7oUGSxfmGw"
      },
      "source": [
        " **1. 파일 생성**\n"
      ]
    },
    {
      "cell_type": "markdown",
      "metadata": {
        "id": "Jlvitxy5f0pq"
      },
      "source": [
        " **2. 더블 클릭 후 함수 작성**"
      ]
    },
    {
      "cell_type": "markdown",
      "metadata": {
        "id": "GoGy6Rdef6PD"
      },
      "source": [
        "print(\"모듈이지롱\")\n",
        "\n",
        "def test(x):\n",
        "    print(\"이건 함수, 들어온 값:\",x)\n",
        "\n",
        "\n",
        "class 한국어도된다:\n",
        "    def __init__(self):\n",
        "        self.msg = \"신기하죠?\""
      ]
    },
    {
      "cell_type": "code",
      "execution_count": null,
      "metadata": {
        "colab": {
          "base_uri": "https://localhost:8080/"
        },
        "id": "-8Sv5hDteki6",
        "outputId": "73d72dbc-3545-461d-f9da-bc7e6664b250"
      },
      "outputs": [
        {
          "name": "stdout",
          "output_type": "stream",
          "text": [
            "모듈이지롱\n"
          ]
        }
      ],
      "source": [
        "import oshmodule"
      ]
    },
    {
      "cell_type": "code",
      "execution_count": null,
      "metadata": {
        "colab": {
          "base_uri": "https://localhost:8080/"
        },
        "id": "2H9Lad3NeoyE",
        "outputId": "a4f6b1b8-205a-47f7-dbfd-8f30b55eef70"
      },
      "outputs": [
        {
          "name": "stdout",
          "output_type": "stream",
          "text": [
            "이건 함수, 들어온 값: 1\n"
          ]
        }
      ],
      "source": [
        "oshmodule.test(1)"
      ]
    },
    {
      "cell_type": "code",
      "execution_count": null,
      "metadata": {
        "colab": {
          "base_uri": "https://localhost:8080/",
          "height": 35
        },
        "id": "vJa48-xAe9vi",
        "outputId": "2f67a14c-8c06-40ca-becf-5398c9cba802"
      },
      "outputs": [
        {
          "data": {
            "application/vnd.google.colaboratory.intrinsic+json": {
              "type": "string"
            },
            "text/plain": [
              "'신기하죠?'"
            ]
          },
          "execution_count": 3,
          "metadata": {},
          "output_type": "execute_result"
        }
      ],
      "source": [
        "obj = oshmodule.한국어도된다()\n",
        "obj.msg"
      ]
    },
    {
      "cell_type": "markdown",
      "metadata": {
        "id": "e3LnM8O4g-i1"
      },
      "source": [
        "**argparse - argument parsing**"
      ]
    },
    {
      "cell_type": "markdown",
      "metadata": {
        "id": "6SJehntciX31"
      },
      "source": [
        "- import argparse\n",
        "\n",
        "- parser = argparse.ArgumentParser()\n",
        "- parser.add_argument(\"-m\",\"--msg\" dest='message')\n",
        "- parser.add_argument(\"-lr\",\"--lr\",dest=\"learningrate\")\n",
        "- args = parser.parse_args()\n",
        "\n",
        "- print(args.message)\n",
        "- print(args.learningrate)"
      ]
    },
    {
      "cell_type": "code",
      "execution_count": null,
      "metadata": {
        "colab": {
          "base_uri": "https://localhost:8080/"
        },
        "id": "74mbxfXtfjQN",
        "outputId": "6e1926f6-d57e-4f59-d466-faa709da9aad"
      },
      "outputs": [
        {
          "name": "stdout",
          "output_type": "stream",
          "text": [
            "안녕하세요\n",
            "0.001\n"
          ]
        }
      ],
      "source": [
        "!python 2nd_oshmodule.py -m \"안녕하세요\" -lr 0.001"
      ]
    },
    {
      "cell_type": "markdown",
      "metadata": {
        "id": "psdTJoD_jhzA"
      },
      "source": [
        "**실습**"
      ]
    },
    {
      "cell_type": "code",
      "execution_count": 1,
      "metadata": {
        "colab": {
          "base_uri": "https://localhost:8080/"
        },
        "id": "h4qwbjiOiLmE",
        "outputId": "8e36fcf9-6c43-4202-8dd6-f34b1c4769a8"
      },
      "outputs": [
        {
          "output_type": "stream",
          "name": "stdout",
          "text": [
            "윤왕규\n",
            "남자\n"
          ]
        }
      ],
      "source": [
        "!python ywg.py -n \"윤왕규\" -s \"남자\""
      ]
    },
    {
      "cell_type": "code",
      "source": [
        "from game.sound import *\n",
        "echo.echo_test()"
      ],
      "metadata": {
        "colab": {
          "base_uri": "https://localhost:8080/"
        },
        "id": "08U2GsxcoRjP",
        "outputId": "85301fcb-4dc7-410a-efda-7e426f0f8281"
      },
      "execution_count": 1,
      "outputs": [
        {
          "output_type": "stream",
          "name": "stdout",
          "text": [
            "echo\n"
          ]
        }
      ]
    },
    {
      "cell_type": "code",
      "source": [
        "import game.sound.echo\n",
        "game.sound.echo.echo_test()"
      ],
      "metadata": {
        "colab": {
          "base_uri": "https://localhost:8080/"
        },
        "id": "_CWuxHHjo5zK",
        "outputId": "cb52d37e-04ec-48c5-f32b-d3b75d69d1ab"
      },
      "execution_count": 2,
      "outputs": [
        {
          "output_type": "stream",
          "name": "stdout",
          "text": [
            "echo\n"
          ]
        }
      ]
    },
    {
      "cell_type": "code",
      "source": [
        "from game.sound import echo\n",
        "echo.echo_test()"
      ],
      "metadata": {
        "colab": {
          "base_uri": "https://localhost:8080/"
        },
        "id": "2v8ZbTA3o_FH",
        "outputId": "135a949c-e0f7-4efc-e000-f01e64262cfa"
      },
      "execution_count": 3,
      "outputs": [
        {
          "output_type": "stream",
          "name": "stdout",
          "text": [
            "echo\n"
          ]
        }
      ]
    },
    {
      "cell_type": "code",
      "source": [
        "from game.sound.echo import echo_test\n",
        "echo_test()"
      ],
      "metadata": {
        "colab": {
          "base_uri": "https://localhost:8080/"
        },
        "id": "AMJat_bspCkS",
        "outputId": "ea550a76-d605-44d5-c7d3-0b6a16c2b4af"
      },
      "execution_count": 5,
      "outputs": [
        {
          "output_type": "stream",
          "name": "stdout",
          "text": [
            "echo\n"
          ]
        }
      ]
    },
    {
      "cell_type": "code",
      "source": [
        "import game.sound.echo as ac\n",
        "ac.echo_test()"
      ],
      "metadata": {
        "colab": {
          "base_uri": "https://localhost:8080/"
        },
        "id": "-3arwZ0spGKl",
        "outputId": "7d5970c3-367e-4c1d-c50b-163701d04104"
      },
      "execution_count": 6,
      "outputs": [
        {
          "output_type": "stream",
          "name": "stdout",
          "text": [
            "echo\n"
          ]
        }
      ]
    },
    {
      "cell_type": "code",
      "source": [
        "import game\n",
        "print(game.VERSION)\n",
        "game.print_version_info()"
      ],
      "metadata": {
        "colab": {
          "base_uri": "https://localhost:8080/"
        },
        "id": "15-giMu7pOZf",
        "outputId": "a84e0a8c-5988-4396-b41e-5d9813fb3e41"
      },
      "execution_count": 1,
      "outputs": [
        {
          "output_type": "stream",
          "name": "stdout",
          "text": [
            "3.5\n",
            "The Version of this game is 3.5\n"
          ]
        }
      ]
    },
    {
      "cell_type": "code",
      "source": [
        "game.render_test()"
      ],
      "metadata": {
        "colab": {
          "base_uri": "https://localhost:8080/"
        },
        "id": "vaQ4vpahrrbu",
        "outputId": "f9f8c7d7-533d-48e7-dde6-e59a3c406a2f"
      },
      "execution_count": 2,
      "outputs": [
        {
          "output_type": "stream",
          "name": "stdout",
          "text": [
            "render\n"
          ]
        }
      ]
    },
    {
      "cell_type": "code",
      "source": [
        "from game.sound import *\n",
        "echo.echo_test()"
      ],
      "metadata": {
        "colab": {
          "base_uri": "https://localhost:8080/"
        },
        "id": "AHNz0TahsUkD",
        "outputId": "afc74818-e203-4743-b342-5f1f7ffd79db"
      },
      "execution_count": 3,
      "outputs": [
        {
          "output_type": "stream",
          "name": "stdout",
          "text": [
            "echo\n"
          ]
        }
      ]
    },
    {
      "cell_type": "markdown",
      "source": [
        "**if __name__ == \"__main__\"의 정체**"
      ],
      "metadata": {
        "id": "3-EN1p-RuHOG"
      }
    },
    {
      "cell_type": "markdown",
      "source": [
        "작성한 함수만 쓰고 싶을 때, print()부분은 쓰고싶지 않음"
      ],
      "metadata": {
        "id": "TrdFz2XxuNJg"
      }
    },
    {
      "cell_type": "code",
      "source": [
        "!python mod1.py"
      ],
      "metadata": {
        "colab": {
          "base_uri": "https://localhost:8080/"
        },
        "id": "XqL36RybszsP",
        "outputId": "10d446ff-f5a1-47de-c3b8-7373cc22f06a"
      },
      "execution_count": 1,
      "outputs": [
        {
          "output_type": "stream",
          "name": "stdout",
          "text": [
            "5\n",
            "-3\n"
          ]
        }
      ]
    },
    {
      "cell_type": "code",
      "source": [
        "import mod1"
      ],
      "metadata": {
        "id": "JU0VwmsVt8Zl"
      },
      "execution_count": 2,
      "outputs": []
    }
  ],
  "metadata": {
    "colab": {
      "provenance": [],
      "authorship_tag": "ABX9TyO+57nQNJxVrhEcppQY/BGv",
      "include_colab_link": true
    },
    "kernelspec": {
      "display_name": "Python 3",
      "name": "python3"
    },
    "language_info": {
      "name": "python"
    }
  },
  "nbformat": 4,
  "nbformat_minor": 0
}